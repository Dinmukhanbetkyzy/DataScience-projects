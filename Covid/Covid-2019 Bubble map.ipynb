{
 "cells": [
  {
   "cell_type": "markdown",
   "metadata": {},
   "source": [
    "# In this file I will try to plot data from CSV to map "
   ]
  },
  {
   "cell_type": "code",
   "execution_count": 1,
   "metadata": {
    "scrolled": true
   },
   "outputs": [
    {
     "name": "stdout",
     "output_type": "stream",
     "text": [
      "Requirement already satisfied: plotly==4.8.1 in /opt/anaconda3/lib/python3.7/site-packages (4.8.1)\n",
      "Requirement already satisfied: retrying>=1.3.3 in /opt/anaconda3/lib/python3.7/site-packages (from plotly==4.8.1) (1.3.3)\n",
      "Requirement already satisfied: six in /opt/anaconda3/lib/python3.7/site-packages (from plotly==4.8.1) (1.14.0)\n",
      "Note: you may need to restart the kernel to use updated packages.\n"
     ]
    }
   ],
   "source": [
    "%pip install plotly==4.8.1"
   ]
  },
  {
   "cell_type": "code",
   "execution_count": 2,
   "metadata": {},
   "outputs": [
    {
     "name": "stdout",
     "output_type": "stream",
     "text": [
      "Requirement already satisfied: pandas in /opt/anaconda3/lib/python3.7/site-packages (1.0.1)\n",
      "Requirement already satisfied: plotnine in /opt/anaconda3/lib/python3.7/site-packages (0.7.0)\n",
      "Requirement already satisfied: numpy>=1.13.3 in /opt/anaconda3/lib/python3.7/site-packages (from pandas) (1.18.1)\n",
      "Requirement already satisfied: pytz>=2017.2 in /opt/anaconda3/lib/python3.7/site-packages (from pandas) (2019.3)\n",
      "Requirement already satisfied: python-dateutil>=2.6.1 in /opt/anaconda3/lib/python3.7/site-packages (from pandas) (2.8.1)\n",
      "Requirement already satisfied: scipy>=1.2.0 in /opt/anaconda3/lib/python3.7/site-packages (from plotnine) (1.4.1)\n",
      "Requirement already satisfied: statsmodels>=0.11.1 in /opt/anaconda3/lib/python3.7/site-packages (from plotnine) (0.11.1)\n",
      "Requirement already satisfied: matplotlib>=3.1.1 in /opt/anaconda3/lib/python3.7/site-packages (from plotnine) (3.1.3)\n",
      "Requirement already satisfied: mizani>=0.7.1 in /opt/anaconda3/lib/python3.7/site-packages (from plotnine) (0.7.1)\n",
      "Requirement already satisfied: descartes>=1.1.0 in /opt/anaconda3/lib/python3.7/site-packages (from plotnine) (1.1.0)\n",
      "Requirement already satisfied: patsy>=0.5.1 in /opt/anaconda3/lib/python3.7/site-packages (from plotnine) (0.5.1)\n",
      "Requirement already satisfied: six>=1.5 in /opt/anaconda3/lib/python3.7/site-packages (from python-dateutil>=2.6.1->pandas) (1.14.0)\n",
      "Requirement already satisfied: pyparsing!=2.0.4,!=2.1.2,!=2.1.6,>=2.0.1 in /opt/anaconda3/lib/python3.7/site-packages (from matplotlib>=3.1.1->plotnine) (2.4.6)\n",
      "Requirement already satisfied: kiwisolver>=1.0.1 in /opt/anaconda3/lib/python3.7/site-packages (from matplotlib>=3.1.1->plotnine) (1.1.0)\n",
      "Requirement already satisfied: cycler>=0.10 in /opt/anaconda3/lib/python3.7/site-packages (from matplotlib>=3.1.1->plotnine) (0.10.0)\n",
      "Requirement already satisfied: palettable in /opt/anaconda3/lib/python3.7/site-packages (from mizani>=0.7.1->plotnine) (3.3.0)\n",
      "Requirement already satisfied: setuptools in /opt/anaconda3/lib/python3.7/site-packages (from kiwisolver>=1.0.1->matplotlib>=3.1.1->plotnine) (46.0.0.post20200309)\n"
     ]
    }
   ],
   "source": [
    "!pip install pandas plotnine"
   ]
  },
  {
   "cell_type": "code",
   "execution_count": 3,
   "metadata": {
    "scrolled": true
   },
   "outputs": [],
   "source": [
    "import pandas as pd\n",
    "import plotly.graph_objects as go\n",
    "from sklearn.model_selection import train_test_split\n",
    "import seaborn as sns\n",
    "from matplotlib import pyplot as plt\n",
    "from matplotlib import style\n",
    "from plotnine import *"
   ]
  },
  {
   "cell_type": "code",
   "execution_count": 4,
   "metadata": {},
   "outputs": [],
   "source": [
    "Covid_death = pd.read_csv(\"datasets_494724_1234657_time_series_covid_19_deaths.csv\")\n",
    "df=Covid_death.copy()\n"
   ]
  },
  {
   "cell_type": "code",
   "execution_count": 5,
   "metadata": {},
   "outputs": [
    {
     "data": {
      "text/html": [
       "<div>\n",
       "<style scoped>\n",
       "    .dataframe tbody tr th:only-of-type {\n",
       "        vertical-align: middle;\n",
       "    }\n",
       "\n",
       "    .dataframe tbody tr th {\n",
       "        vertical-align: top;\n",
       "    }\n",
       "\n",
       "    .dataframe thead th {\n",
       "        text-align: right;\n",
       "    }\n",
       "</style>\n",
       "<table border=\"1\" class=\"dataframe\">\n",
       "  <thead>\n",
       "    <tr style=\"text-align: right;\">\n",
       "      <th></th>\n",
       "      <th>Province</th>\n",
       "      <th>Country</th>\n",
       "      <th>Lat</th>\n",
       "      <th>Long</th>\n",
       "      <th>1/22/20</th>\n",
       "      <th>1/23/20</th>\n",
       "      <th>1/24/20</th>\n",
       "      <th>1/25/20</th>\n",
       "      <th>1/26/20</th>\n",
       "      <th>1/27/20</th>\n",
       "      <th>...</th>\n",
       "      <th>6/1/20</th>\n",
       "      <th>6/2/20</th>\n",
       "      <th>6/3/20</th>\n",
       "      <th>6/4/20</th>\n",
       "      <th>6/5/20</th>\n",
       "      <th>6/6/20</th>\n",
       "      <th>6/7/20</th>\n",
       "      <th>6/8/20</th>\n",
       "      <th>6/9/20</th>\n",
       "      <th>6/10/20</th>\n",
       "    </tr>\n",
       "  </thead>\n",
       "  <tbody>\n",
       "    <tr>\n",
       "      <th>0</th>\n",
       "      <td>NaN</td>\n",
       "      <td>Afghanistan</td>\n",
       "      <td>33.0000</td>\n",
       "      <td>65.0000</td>\n",
       "      <td>0</td>\n",
       "      <td>0</td>\n",
       "      <td>0</td>\n",
       "      <td>0</td>\n",
       "      <td>0</td>\n",
       "      <td>0</td>\n",
       "      <td>...</td>\n",
       "      <td>265</td>\n",
       "      <td>270</td>\n",
       "      <td>294</td>\n",
       "      <td>300</td>\n",
       "      <td>309</td>\n",
       "      <td>327</td>\n",
       "      <td>357</td>\n",
       "      <td>369</td>\n",
       "      <td>384</td>\n",
       "      <td>405</td>\n",
       "    </tr>\n",
       "    <tr>\n",
       "      <th>1</th>\n",
       "      <td>NaN</td>\n",
       "      <td>Albania</td>\n",
       "      <td>41.1533</td>\n",
       "      <td>20.1683</td>\n",
       "      <td>0</td>\n",
       "      <td>0</td>\n",
       "      <td>0</td>\n",
       "      <td>0</td>\n",
       "      <td>0</td>\n",
       "      <td>0</td>\n",
       "      <td>...</td>\n",
       "      <td>33</td>\n",
       "      <td>33</td>\n",
       "      <td>33</td>\n",
       "      <td>33</td>\n",
       "      <td>33</td>\n",
       "      <td>34</td>\n",
       "      <td>34</td>\n",
       "      <td>34</td>\n",
       "      <td>34</td>\n",
       "      <td>34</td>\n",
       "    </tr>\n",
       "    <tr>\n",
       "      <th>2</th>\n",
       "      <td>NaN</td>\n",
       "      <td>Algeria</td>\n",
       "      <td>28.0339</td>\n",
       "      <td>1.6596</td>\n",
       "      <td>0</td>\n",
       "      <td>0</td>\n",
       "      <td>0</td>\n",
       "      <td>0</td>\n",
       "      <td>0</td>\n",
       "      <td>0</td>\n",
       "      <td>...</td>\n",
       "      <td>661</td>\n",
       "      <td>667</td>\n",
       "      <td>673</td>\n",
       "      <td>681</td>\n",
       "      <td>690</td>\n",
       "      <td>698</td>\n",
       "      <td>707</td>\n",
       "      <td>715</td>\n",
       "      <td>724</td>\n",
       "      <td>732</td>\n",
       "    </tr>\n",
       "    <tr>\n",
       "      <th>3</th>\n",
       "      <td>NaN</td>\n",
       "      <td>Andorra</td>\n",
       "      <td>42.5063</td>\n",
       "      <td>1.5218</td>\n",
       "      <td>0</td>\n",
       "      <td>0</td>\n",
       "      <td>0</td>\n",
       "      <td>0</td>\n",
       "      <td>0</td>\n",
       "      <td>0</td>\n",
       "      <td>...</td>\n",
       "      <td>51</td>\n",
       "      <td>51</td>\n",
       "      <td>51</td>\n",
       "      <td>51</td>\n",
       "      <td>51</td>\n",
       "      <td>51</td>\n",
       "      <td>51</td>\n",
       "      <td>51</td>\n",
       "      <td>51</td>\n",
       "      <td>51</td>\n",
       "    </tr>\n",
       "    <tr>\n",
       "      <th>4</th>\n",
       "      <td>NaN</td>\n",
       "      <td>Angola</td>\n",
       "      <td>-11.2027</td>\n",
       "      <td>17.8739</td>\n",
       "      <td>0</td>\n",
       "      <td>0</td>\n",
       "      <td>0</td>\n",
       "      <td>0</td>\n",
       "      <td>0</td>\n",
       "      <td>0</td>\n",
       "      <td>...</td>\n",
       "      <td>4</td>\n",
       "      <td>4</td>\n",
       "      <td>4</td>\n",
       "      <td>4</td>\n",
       "      <td>4</td>\n",
       "      <td>4</td>\n",
       "      <td>4</td>\n",
       "      <td>4</td>\n",
       "      <td>4</td>\n",
       "      <td>4</td>\n",
       "    </tr>\n",
       "  </tbody>\n",
       "</table>\n",
       "<p>5 rows × 145 columns</p>\n",
       "</div>"
      ],
      "text/plain": [
       "  Province      Country      Lat     Long  1/22/20  1/23/20  1/24/20  1/25/20  \\\n",
       "0      NaN  Afghanistan  33.0000  65.0000        0        0        0        0   \n",
       "1      NaN      Albania  41.1533  20.1683        0        0        0        0   \n",
       "2      NaN      Algeria  28.0339   1.6596        0        0        0        0   \n",
       "3      NaN      Andorra  42.5063   1.5218        0        0        0        0   \n",
       "4      NaN       Angola -11.2027  17.8739        0        0        0        0   \n",
       "\n",
       "   1/26/20  1/27/20  ...  6/1/20  6/2/20  6/3/20  6/4/20  6/5/20  6/6/20  \\\n",
       "0        0        0  ...     265     270     294     300     309     327   \n",
       "1        0        0  ...      33      33      33      33      33      34   \n",
       "2        0        0  ...     661     667     673     681     690     698   \n",
       "3        0        0  ...      51      51      51      51      51      51   \n",
       "4        0        0  ...       4       4       4       4       4       4   \n",
       "\n",
       "   6/7/20  6/8/20  6/9/20  6/10/20  \n",
       "0     357     369     384      405  \n",
       "1      34      34      34       34  \n",
       "2     707     715     724      732  \n",
       "3      51      51      51       51  \n",
       "4       4       4       4        4  \n",
       "\n",
       "[5 rows x 145 columns]"
      ]
     },
     "execution_count": 5,
     "metadata": {},
     "output_type": "execute_result"
    }
   ],
   "source": [
    "df=Covid_death.copy()\n",
    "df = df.rename(columns= {\"Country/Region\" : \"Country\", \"Province/State\": \"Province\"})\n",
    "df.head()"
   ]
  },
  {
   "cell_type": "code",
   "execution_count": 6,
   "metadata": {},
   "outputs": [],
   "source": [
    "\n",
    "total_list = df.groupby('Country')['4/13/20'].sum().tolist()\n",
    "\n",
    "country_list = df[\"Country\"].tolist()\n",
    "country_set = set(country_list)\n",
    "country_list = list(country_set)\n",
    "country_list.sort()\n",
    "new_df = pd.DataFrame(list(zip(country_list, total_list)), \n",
    "               columns =['Country', 'Total_DeathNumber'])"
   ]
  },
  {
   "cell_type": "code",
   "execution_count": 7,
   "metadata": {},
   "outputs": [],
   "source": [
    "colors = [\"#F9F9F5\", \"#FAFAE6\", \"#FCFCCB\", \"#FCFCAE\",  \"#FCF1AE\", \"#FCEA7D\", \"#FCD97D\",\n",
    "          \"#FCCE7D\", \"#FCC07D\", \"#FEB562\", \"#F9A648\",  \"#F98E48\", \"#FD8739\", \"#FE7519\",\n",
    "          \"#FE5E19\", \"#FA520A\", \"#FA2B0A\", \"#9B1803\",  \"#861604\", \"#651104\", \"#570303\",]\n",
    "\n"
   ]
  },
  {
   "cell_type": "code",
   "execution_count": 8,
   "metadata": {},
   "outputs": [],
   "source": [
    "\n",
    "fig = go.Figure(data=go.Choropleth(\n",
    "    locationmode = \"country names\",\n",
    "    locations = new_df['Country'],\n",
    "    z = new_df['Total_DeathNumber'],\n",
    "    text = new_df['Total_DeathNumber'],\n",
    "    colorscale = colors,\n",
    "    autocolorscale=False,\n",
    "    reversescale=False,\n",
    "    colorbar_title = 'Reported Covid-19 Death Cases',\n",
    "))"
   ]
  },
  {
   "cell_type": "code",
   "execution_count": 9,
   "metadata": {},
   "outputs": [],
   "source": [
    "fig.update_layout(\n",
    "    title_text='Reported Covid-19 Death Cases',\n",
    "    geo=dict(\n",
    "        showcoastlines=True,\n",
    "    ),\n",
    ")\n",
    "\n",
    "fig.write_html('first_figure.html', auto_open=True)"
   ]
  },
  {
   "cell_type": "code",
   "execution_count": null,
   "metadata": {},
   "outputs": [],
   "source": []
  }
 ],
 "metadata": {
  "kernelspec": {
   "display_name": "Python 3",
   "language": "python",
   "name": "python3"
  },
  "language_info": {
   "codemirror_mode": {
    "name": "ipython",
    "version": 3
   },
   "file_extension": ".py",
   "mimetype": "text/x-python",
   "name": "python",
   "nbconvert_exporter": "python",
   "pygments_lexer": "ipython3",
   "version": "3.7.6"
  }
 },
 "nbformat": 4,
 "nbformat_minor": 4
}
