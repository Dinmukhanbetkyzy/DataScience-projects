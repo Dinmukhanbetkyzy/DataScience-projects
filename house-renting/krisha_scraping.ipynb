{
 "cells": [
  {
   "cell_type": "markdown",
   "metadata": {},
   "source": [
    "<h2>В этот блокноте собираю данные о аренде жилья в Алмате с популярного веб-сайта krisha.kz </h2>\n",
    "в ходе работы использовала библиотеки:\n",
    "<li> Requests - для получения данных с сайта</li>\n",
    "<li> BeutifulSoup-для работы с html кодом, для поиска данных в коде</li>\n",
    "<li> Pandas-для работы со строками в базе</li>\n"
   ]
  },
  {
   "cell_type": "code",
   "execution_count": 1,
   "metadata": {},
   "outputs": [],
   "source": [
    "import pandas as pd\n",
    "from bs4 import BeautifulSoup\n",
    "import requests"
   ]
  },
  {
   "cell_type": "markdown",
   "metadata": {},
   "source": [
    "Создадим пустые листы, куда будем добавлять строки для сохранения в DataFrame\n",
    "<li>information - основная информация(количество комнат, квадратура, этаж)</li>\n",
    "<li>cost - цена в тенге за месяц аренды</li>\n",
    "<li>place - адрес (район, пересечение улиц)</li>"
   ]
  },
  {
   "cell_type": "code",
   "execution_count": 2,
   "metadata": {},
   "outputs": [],
   "source": [
    "\n",
    "information = []\n",
    "cost = []\n",
    "place = []"
   ]
  },
  {
   "cell_type": "markdown",
   "metadata": {},
   "source": [
    "По поиску на сайте вышло около 300 страниц. Каждая новая страница не дополняет, а создает новый html код, нужно запрашивать каждую страницу отдельно. Создадим функцию для получения интересующих нас данных. \n",
    "<br> \n",
    "Функция принимает тип BeutifulSoup, ищет карточку каждого отдельного объявления, и сохраняет/возвращет информацию, цену и адрес."
   ]
  },
  {
   "cell_type": "code",
   "execution_count": 3,
   "metadata": {},
   "outputs": [],
   "source": [
    "def scrap(soup):\n",
    "    cards = soup.find_all('div', class_='a-card a-storage-live ddl_product ddl_product_link not-colored is-visible')\n",
    "    info = []\n",
    "    price = []\n",
    "    address = []\n",
    "    company = []\n",
    "    for item in cards:\n",
    "        header_left = item.find('div', class_='a-card__header-left')\n",
    "        info.append(header_left.find('a', class_='a-card__title').get_text())\n",
    "        price.append(item.find('div', class_='a-card__price').get_text(strip=True).replace(u'\\xa0', u''))\n",
    "        address.append(item.find('div', class_='a-card__wrapper-subtitle').get_text(strip=True))\n",
    "    return info, price, address"
   ]
  },
  {
   "cell_type": "markdown",
   "metadata": {},
   "source": [
    "Запишем ссылку, в которую в цикле будем добавлять номер страницы и получать код"
   ]
  },
  {
   "cell_type": "code",
   "execution_count": 4,
   "metadata": {},
   "outputs": [],
   "source": [
    "url = 'https://krisha.kz/arenda/kvartiry/almaty/?das[rent.period]=2&page='\n",
    "for i in range(1,323):\n",
    "    url = url+str(i)\n",
    "    page = requests.get(url)\n",
    "    soup = BeautifulSoup(page.content, 'html.parser')\n",
    "    info, price, address = scrap(soup)\n",
    "    for item in info:\n",
    "        information.append(item)\n",
    "    for item in price:\n",
    "        cost.append(item)\n",
    "    for item in address:\n",
    "        place.append(item)\n",
    "\n",
    "    \n",
    "    "
   ]
  },
  {
   "cell_type": "markdown",
   "metadata": {},
   "source": [
    "Проверим равное ли количество строк в списках"
   ]
  },
  {
   "cell_type": "code",
   "execution_count": 5,
   "metadata": {},
   "outputs": [
    {
     "data": {
      "text/plain": [
       "(2060, 2060, 2060)"
      ]
     },
     "execution_count": 5,
     "metadata": {},
     "output_type": "execute_result"
    }
   ],
   "source": [
    "len(information),\\\n",
    "len(place),\\\n",
    "len(cost)\n"
   ]
  },
  {
   "cell_type": "markdown",
   "metadata": {},
   "source": [
    "Сохраним данные в DataFrame"
   ]
  },
  {
   "cell_type": "code",
   "execution_count": 28,
   "metadata": {},
   "outputs": [],
   "source": [
    "appartment = pd.DataFrame({\n",
    "    \"information\": information,\n",
    "    \"cost_kzt\": cost,\n",
    "    \"place\": place,\n",
    "})"
   ]
  },
  {
   "cell_type": "markdown",
   "metadata": {},
   "source": [
    "Осталось только очистка и разделение данных на столбцы"
   ]
  },
  {
   "cell_type": "code",
   "execution_count": 29,
   "metadata": {},
   "outputs": [
    {
     "name": "stderr",
     "output_type": "stream",
     "text": [
      "/opt/anaconda3/lib/python3.7/site-packages/ipykernel_launcher.py:1: FutureWarning: Columnar iteration over characters will be deprecated in future releases.\n",
      "  \"\"\"Entry point for launching an IPython kernel.\n",
      "/opt/anaconda3/lib/python3.7/site-packages/ipykernel_launcher.py:2: FutureWarning: Columnar iteration over characters will be deprecated in future releases.\n",
      "  \n",
      "/opt/anaconda3/lib/python3.7/site-packages/ipykernel_launcher.py:3: FutureWarning: Columnar iteration over characters will be deprecated in future releases.\n",
      "  This is separate from the ipykernel package so we can avoid doing imports until\n"
     ]
    }
   ],
   "source": [
    "\n",
    "appartment['rooms'], appartment['total_area'],appartment['floor'] = appartment['information'].str.split(',').str\n",
    "appartment['district'], appartment['intersection_of_streets'] = appartment['place'].str.split(',', 1).str\n",
    "appartment['app_floor'], appartment['number_of_floors'] = appartment['floor'].str.split('/').str\n"
   ]
  },
  {
   "cell_type": "markdown",
   "metadata": {},
   "source": [
    "Удалим не нужные повторяюшиеся слова, которые не влияют на смысл строк"
   ]
  },
  {
   "cell_type": "code",
   "execution_count": 30,
   "metadata": {
    "scrolled": true
   },
   "outputs": [],
   "source": [
    "appartment.rooms = appartment.rooms.str.strip('-комнатная квартира').astype(int)\n",
    "appartment.floor = appartment.floor.str.strip(' этаж помесячно')\n",
    "appartment.cost_kzt = appartment.cost_kzt.str.strip('〒')\n",
    "appartment.number_of_floors = appartment.number_of_floors.str.strip('этаж помесячно')\n",
    "\n",
    "appartment.total_area = appartment.total_area.str.extract('(\\d+)')\n",
    "appartment.drop(['information', 'place', 'floor'],axis='columns', inplace=True)"
   ]
  },
  {
   "cell_type": "code",
   "execution_count": 31,
   "metadata": {},
   "outputs": [
    {
     "data": {
      "text/plain": [
       "(2060, 7)"
      ]
     },
     "execution_count": 31,
     "metadata": {},
     "output_type": "execute_result"
    }
   ],
   "source": [
    "appartment.shape"
   ]
  },
  {
   "cell_type": "code",
   "execution_count": 32,
   "metadata": {},
   "outputs": [
    {
     "data": {
      "text/html": [
       "<div>\n",
       "<style scoped>\n",
       "    .dataframe tbody tr th:only-of-type {\n",
       "        vertical-align: middle;\n",
       "    }\n",
       "\n",
       "    .dataframe tbody tr th {\n",
       "        vertical-align: top;\n",
       "    }\n",
       "\n",
       "    .dataframe thead th {\n",
       "        text-align: right;\n",
       "    }\n",
       "</style>\n",
       "<table border=\"1\" class=\"dataframe\">\n",
       "  <thead>\n",
       "    <tr style=\"text-align: right;\">\n",
       "      <th></th>\n",
       "      <th>cost_kzt</th>\n",
       "      <th>rooms</th>\n",
       "      <th>total_area</th>\n",
       "      <th>district</th>\n",
       "      <th>intersection_of_streets</th>\n",
       "      <th>app_floor</th>\n",
       "      <th>number_of_floors</th>\n",
       "    </tr>\n",
       "  </thead>\n",
       "  <tbody>\n",
       "    <tr>\n",
       "      <th>0</th>\n",
       "      <td>250000</td>\n",
       "      <td>3</td>\n",
       "      <td>76</td>\n",
       "      <td>Медеуский р-н</td>\n",
       "      <td>Тулебаева — Кабанбай Батыра</td>\n",
       "      <td>2</td>\n",
       "      <td>4</td>\n",
       "    </tr>\n",
       "    <tr>\n",
       "      <th>1</th>\n",
       "      <td>130000</td>\n",
       "      <td>3</td>\n",
       "      <td>71</td>\n",
       "      <td>Алатауский р-н</td>\n",
       "      <td>3-я — Момышулы</td>\n",
       "      <td>6</td>\n",
       "      <td>12</td>\n",
       "    </tr>\n",
       "    <tr>\n",
       "      <th>2</th>\n",
       "      <td>100000</td>\n",
       "      <td>1</td>\n",
       "      <td>40</td>\n",
       "      <td>Алмалинский р-н</td>\n",
       "      <td>Шагабутдинова — Толе би</td>\n",
       "      <td>2</td>\n",
       "      <td>9</td>\n",
       "    </tr>\n",
       "    <tr>\n",
       "      <th>3</th>\n",
       "      <td>150000</td>\n",
       "      <td>3</td>\n",
       "      <td>60</td>\n",
       "      <td>Алмалинский р-н</td>\n",
       "      <td>Байтурсынова — Гоголя</td>\n",
       "      <td>4</td>\n",
       "      <td>5</td>\n",
       "    </tr>\n",
       "    <tr>\n",
       "      <th>4</th>\n",
       "      <td>340000</td>\n",
       "      <td>3</td>\n",
       "      <td>100</td>\n",
       "      <td>Бостандыкский р-н</td>\n",
       "      <td>Каблукова 270 — проспект Аль-Фараби</td>\n",
       "      <td>5</td>\n",
       "      <td>25</td>\n",
       "    </tr>\n",
       "  </tbody>\n",
       "</table>\n",
       "</div>"
      ],
      "text/plain": [
       "  cost_kzt  rooms total_area           district  \\\n",
       "0   250000      3         76      Медеуский р-н   \n",
       "1   130000      3         71     Алатауский р-н   \n",
       "2   100000      1         40    Алмалинский р-н   \n",
       "3   150000      3         60    Алмалинский р-н   \n",
       "4   340000      3        100  Бостандыкский р-н   \n",
       "\n",
       "                intersection_of_streets app_floor number_of_floors  \n",
       "0           Тулебаева — Кабанбай Батыра         2                4  \n",
       "1                        3-я — Момышулы         6               12  \n",
       "2               Шагабутдинова — Толе би         2                9  \n",
       "3                 Байтурсынова — Гоголя         4                5  \n",
       "4   Каблукова 270 — проспект Аль-Фараби         5               25  "
      ]
     },
     "execution_count": 32,
     "metadata": {},
     "output_type": "execute_result"
    }
   ],
   "source": [
    "appartment.head()"
   ]
  },
  {
   "cell_type": "markdown",
   "metadata": {},
   "source": [
    "Запишем все в csv документ"
   ]
  },
  {
   "cell_type": "code",
   "execution_count": 33,
   "metadata": {},
   "outputs": [],
   "source": [
    "appartment.to_csv('rent_almaty.csv')"
   ]
  },
  {
   "cell_type": "code",
   "execution_count": null,
   "metadata": {},
   "outputs": [],
   "source": []
  }
 ],
 "metadata": {
  "kernelspec": {
   "display_name": "Python 3",
   "language": "python",
   "name": "python3"
  },
  "language_info": {
   "codemirror_mode": {
    "name": "ipython",
    "version": 3
   },
   "file_extension": ".py",
   "mimetype": "text/x-python",
   "name": "python",
   "nbconvert_exporter": "python",
   "pygments_lexer": "ipython3",
   "version": "3.7.6"
  }
 },
 "nbformat": 4,
 "nbformat_minor": 4
}
