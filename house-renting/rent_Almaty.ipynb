{
 "cells": [
  {
   "cell_type": "markdown",
   "metadata": {},
   "source": [
    "<h2>DS Look On: Аренда квартир в Алмате  </h2>\n",
    "Была вдохновлена \n",
    "    <a href='https://github.com/nyssarex/Projects/blob/master/Projects/House_prices/Krysha_forLinkedIn.ipynb'> данной работой</a> и решила сделать схожий анализ аренды квартир в Алмате\n",
    "<br>Введение: в данном блокноте разобраны объявления аренды одно-, двух-, трех- и четырехкомнаетных квартир в городе Алматы. Все данные собраны, очищены, проанализированы и обработы с сайта <a href='krisha.kz'>krisha.kz</a>. В базе всего 2060 строк, выводы сделаны ограниченно на этом количестве строк, и их не достаточно для серьезных решений:)"
   ]
  },
  {
   "cell_type": "code",
   "execution_count": 1,
   "metadata": {},
   "outputs": [],
   "source": [
    "import pandas as pd\n",
    "import numpy as np\n",
    "import seaborn as sns\n",
    "import matplotlib.pyplot as plt\n",
    "%matplotlib inline\n"
   ]
  },
  {
   "cell_type": "markdown",
   "metadata": {},
   "source": [
    "<h3> Обзор данных</h3>\n",
    "есть следующие столбцы:\n",
    "<li>cost_kzt  - цена за аренду в месяц</li>\n",
    "<li>rooms -  количество комнат</li>\n",
    "<li>total_area - общая площадь</li>\n",
    "<li>district - район местоположения</li>\n",
    "<li>intersection_of_streets - пересечение улиц</li>\n",
    "<li>app_floor - этаж</li>\n",
    "<li>number_of_floors - всего этажей в доме</li>\n",
    "P.S основываясь на логике оставила только эти столбцы, при дальнейшей работе планирую добавить больше данных либо категориальных, либо дискретных\n"
   ]
  },
  {
   "cell_type": "code",
   "execution_count": 26,
   "metadata": {},
   "outputs": [
    {
     "data": {
      "text/html": [
       "<div>\n",
       "<style scoped>\n",
       "    .dataframe tbody tr th:only-of-type {\n",
       "        vertical-align: middle;\n",
       "    }\n",
       "\n",
       "    .dataframe tbody tr th {\n",
       "        vertical-align: top;\n",
       "    }\n",
       "\n",
       "    .dataframe thead th {\n",
       "        text-align: right;\n",
       "    }\n",
       "</style>\n",
       "<table border=\"1\" class=\"dataframe\">\n",
       "  <thead>\n",
       "    <tr style=\"text-align: right;\">\n",
       "      <th></th>\n",
       "      <th>cost_kzt</th>\n",
       "      <th>rooms</th>\n",
       "      <th>total_area</th>\n",
       "      <th>district</th>\n",
       "      <th>intersection_of_streets</th>\n",
       "      <th>app_floor</th>\n",
       "      <th>number_of_floors</th>\n",
       "    </tr>\n",
       "  </thead>\n",
       "  <tbody>\n",
       "    <tr>\n",
       "      <th>0</th>\n",
       "      <td>250000</td>\n",
       "      <td>3</td>\n",
       "      <td>76</td>\n",
       "      <td>Медеуский р-н</td>\n",
       "      <td>Тулебаева — Кабанбай Батыра</td>\n",
       "      <td>2.0</td>\n",
       "      <td>4.0</td>\n",
       "    </tr>\n",
       "    <tr>\n",
       "      <th>1</th>\n",
       "      <td>130000</td>\n",
       "      <td>3</td>\n",
       "      <td>71</td>\n",
       "      <td>Алатауский р-н</td>\n",
       "      <td>3-я — Момышулы</td>\n",
       "      <td>6.0</td>\n",
       "      <td>12.0</td>\n",
       "    </tr>\n",
       "    <tr>\n",
       "      <th>2</th>\n",
       "      <td>100000</td>\n",
       "      <td>1</td>\n",
       "      <td>40</td>\n",
       "      <td>Алмалинский р-н</td>\n",
       "      <td>Шагабутдинова — Толе би</td>\n",
       "      <td>2.0</td>\n",
       "      <td>9.0</td>\n",
       "    </tr>\n",
       "    <tr>\n",
       "      <th>3</th>\n",
       "      <td>150000</td>\n",
       "      <td>3</td>\n",
       "      <td>60</td>\n",
       "      <td>Алмалинский р-н</td>\n",
       "      <td>Байтурсынова — Гоголя</td>\n",
       "      <td>4.0</td>\n",
       "      <td>5.0</td>\n",
       "    </tr>\n",
       "    <tr>\n",
       "      <th>4</th>\n",
       "      <td>340000</td>\n",
       "      <td>3</td>\n",
       "      <td>100</td>\n",
       "      <td>Бостандыкский р-н</td>\n",
       "      <td>Каблукова 270 — проспект Аль-Фараби</td>\n",
       "      <td>5.0</td>\n",
       "      <td>25.0</td>\n",
       "    </tr>\n",
       "  </tbody>\n",
       "</table>\n",
       "</div>"
      ],
      "text/plain": [
       "   cost_kzt  rooms  total_area           district  \\\n",
       "0    250000      3          76      Медеуский р-н   \n",
       "1    130000      3          71     Алатауский р-н   \n",
       "2    100000      1          40    Алмалинский р-н   \n",
       "3    150000      3          60    Алмалинский р-н   \n",
       "4    340000      3         100  Бостандыкский р-н   \n",
       "\n",
       "                intersection_of_streets  app_floor  number_of_floors  \n",
       "0           Тулебаева — Кабанбай Батыра        2.0               4.0  \n",
       "1                        3-я — Момышулы        6.0              12.0  \n",
       "2               Шагабутдинова — Толе би        2.0               9.0  \n",
       "3                 Байтурсынова — Гоголя        4.0               5.0  \n",
       "4   Каблукова 270 — проспект Аль-Фараби        5.0              25.0  "
      ]
     },
     "execution_count": 26,
     "metadata": {},
     "output_type": "execute_result"
    }
   ],
   "source": [
    "df = pd.read_csv('rent_almaty.csv', index_col=0)\n",
    "df.shape\n",
    "df.head()"
   ]
  },
  {
   "cell_type": "code",
   "execution_count": 3,
   "metadata": {},
   "outputs": [],
   "source": [
    "df = df[(df.district != 'Аскарова 8 — Саина')&(df.district != 'Брусиловского 163')&(df.district != 'Луганского 1')&\n",
    "       (df.district != 'Аль-Фараби')]\n"
   ]
  },
  {
   "cell_type": "code",
   "execution_count": 4,
   "metadata": {},
   "outputs": [
    {
     "data": {
      "text/plain": [
       "cost_kzt                     int64\n",
       "rooms                        int64\n",
       "total_area                   int64\n",
       "district                    object\n",
       "intersection_of_streets     object\n",
       "app_floor                  float64\n",
       "number_of_floors           float64\n",
       "dtype: object"
      ]
     },
     "execution_count": 4,
     "metadata": {},
     "output_type": "execute_result"
    }
   ],
   "source": [
    "df.dtypes"
   ]
  },
  {
   "cell_type": "markdown",
   "metadata": {},
   "source": [
    "<h3> Посмотрим на простую статистику</h3>"
   ]
  },
  {
   "cell_type": "code",
   "execution_count": 5,
   "metadata": {},
   "outputs": [
    {
     "data": {
      "text/html": [
       "<div>\n",
       "<style scoped>\n",
       "    .dataframe tbody tr th:only-of-type {\n",
       "        vertical-align: middle;\n",
       "    }\n",
       "\n",
       "    .dataframe tbody tr th {\n",
       "        vertical-align: top;\n",
       "    }\n",
       "\n",
       "    .dataframe thead th {\n",
       "        text-align: right;\n",
       "    }\n",
       "</style>\n",
       "<table border=\"1\" class=\"dataframe\">\n",
       "  <thead>\n",
       "    <tr style=\"text-align: right;\">\n",
       "      <th></th>\n",
       "      <th>cost_kzt</th>\n",
       "      <th>rooms</th>\n",
       "      <th>total_area</th>\n",
       "      <th>app_floor</th>\n",
       "      <th>number_of_floors</th>\n",
       "    </tr>\n",
       "  </thead>\n",
       "  <tbody>\n",
       "    <tr>\n",
       "      <th>count</th>\n",
       "      <td>2056.000000</td>\n",
       "      <td>2056.000000</td>\n",
       "      <td>2056.000000</td>\n",
       "      <td>2054.000000</td>\n",
       "      <td>2054.000000</td>\n",
       "    </tr>\n",
       "    <tr>\n",
       "      <th>mean</th>\n",
       "      <td>218683.608949</td>\n",
       "      <td>2.446498</td>\n",
       "      <td>70.645428</td>\n",
       "      <td>3.382181</td>\n",
       "      <td>7.927459</td>\n",
       "    </tr>\n",
       "    <tr>\n",
       "      <th>std</th>\n",
       "      <td>197032.432072</td>\n",
       "      <td>0.893914</td>\n",
       "      <td>36.618587</td>\n",
       "      <td>1.821155</td>\n",
       "      <td>5.898401</td>\n",
       "    </tr>\n",
       "    <tr>\n",
       "      <th>min</th>\n",
       "      <td>65000.000000</td>\n",
       "      <td>1.000000</td>\n",
       "      <td>25.000000</td>\n",
       "      <td>1.000000</td>\n",
       "      <td>3.000000</td>\n",
       "    </tr>\n",
       "    <tr>\n",
       "      <th>25%</th>\n",
       "      <td>100000.000000</td>\n",
       "      <td>2.000000</td>\n",
       "      <td>42.000000</td>\n",
       "      <td>2.000000</td>\n",
       "      <td>4.000000</td>\n",
       "    </tr>\n",
       "    <tr>\n",
       "      <th>50%</th>\n",
       "      <td>150000.000000</td>\n",
       "      <td>3.000000</td>\n",
       "      <td>60.000000</td>\n",
       "      <td>4.000000</td>\n",
       "      <td>5.000000</td>\n",
       "    </tr>\n",
       "    <tr>\n",
       "      <th>75%</th>\n",
       "      <td>250000.000000</td>\n",
       "      <td>3.000000</td>\n",
       "      <td>76.000000</td>\n",
       "      <td>5.000000</td>\n",
       "      <td>9.000000</td>\n",
       "    </tr>\n",
       "    <tr>\n",
       "      <th>max</th>\n",
       "      <td>1000000.000000</td>\n",
       "      <td>4.000000</td>\n",
       "      <td>200.000000</td>\n",
       "      <td>18.000000</td>\n",
       "      <td>25.000000</td>\n",
       "    </tr>\n",
       "  </tbody>\n",
       "</table>\n",
       "</div>"
      ],
      "text/plain": [
       "             cost_kzt        rooms   total_area    app_floor  number_of_floors\n",
       "count     2056.000000  2056.000000  2056.000000  2054.000000       2054.000000\n",
       "mean    218683.608949     2.446498    70.645428     3.382181          7.927459\n",
       "std     197032.432072     0.893914    36.618587     1.821155          5.898401\n",
       "min      65000.000000     1.000000    25.000000     1.000000          3.000000\n",
       "25%     100000.000000     2.000000    42.000000     2.000000          4.000000\n",
       "50%     150000.000000     3.000000    60.000000     4.000000          5.000000\n",
       "75%     250000.000000     3.000000    76.000000     5.000000          9.000000\n",
       "max    1000000.000000     4.000000   200.000000    18.000000         25.000000"
      ]
     },
     "execution_count": 5,
     "metadata": {},
     "output_type": "execute_result"
    }
   ],
   "source": [
    "df.describe()"
   ]
  },
  {
   "cell_type": "markdown",
   "metadata": {},
   "source": [
    "<h3> Самая низкая цена на аренду"
   ]
  },
  {
   "cell_type": "code",
   "execution_count": 6,
   "metadata": {
    "scrolled": true
   },
   "outputs": [
    {
     "data": {
      "text/html": [
       "<div>\n",
       "<style scoped>\n",
       "    .dataframe tbody tr th:only-of-type {\n",
       "        vertical-align: middle;\n",
       "    }\n",
       "\n",
       "    .dataframe tbody tr th {\n",
       "        vertical-align: top;\n",
       "    }\n",
       "\n",
       "    .dataframe thead th {\n",
       "        text-align: right;\n",
       "    }\n",
       "</style>\n",
       "<table border=\"1\" class=\"dataframe\">\n",
       "  <thead>\n",
       "    <tr style=\"text-align: right;\">\n",
       "      <th></th>\n",
       "      <th>cost_kzt</th>\n",
       "      <th>rooms</th>\n",
       "      <th>total_area</th>\n",
       "      <th>district</th>\n",
       "      <th>intersection_of_streets</th>\n",
       "      <th>app_floor</th>\n",
       "      <th>number_of_floors</th>\n",
       "    </tr>\n",
       "  </thead>\n",
       "  <tbody>\n",
       "    <tr>\n",
       "      <th>22</th>\n",
       "      <td>65000</td>\n",
       "      <td>1</td>\n",
       "      <td>25</td>\n",
       "      <td>Бостандыкский р-н</td>\n",
       "      <td>мкр Хан Тенгри, Кенесары хана 83/6</td>\n",
       "      <td>1.0</td>\n",
       "      <td>6.0</td>\n",
       "    </tr>\n",
       "  </tbody>\n",
       "</table>\n",
       "</div>"
      ],
      "text/plain": [
       "    cost_kzt  rooms  total_area           district  \\\n",
       "22     65000      1          25  Бостандыкский р-н   \n",
       "\n",
       "                intersection_of_streets  app_floor  number_of_floors  \n",
       "22   мкр Хан Тенгри, Кенесары хана 83/6        1.0               6.0  "
      ]
     },
     "execution_count": 6,
     "metadata": {},
     "output_type": "execute_result"
    }
   ],
   "source": [
    "df[df['cost_kzt']==df.cost_kzt.min()]"
   ]
  },
  {
   "cell_type": "markdown",
   "metadata": {},
   "source": [
    "<h3> Самая высокая цена на аренду"
   ]
  },
  {
   "cell_type": "code",
   "execution_count": 7,
   "metadata": {
    "scrolled": true
   },
   "outputs": [
    {
     "data": {
      "text/html": [
       "<div>\n",
       "<style scoped>\n",
       "    .dataframe tbody tr th:only-of-type {\n",
       "        vertical-align: middle;\n",
       "    }\n",
       "\n",
       "    .dataframe tbody tr th {\n",
       "        vertical-align: top;\n",
       "    }\n",
       "\n",
       "    .dataframe thead th {\n",
       "        text-align: right;\n",
       "    }\n",
       "</style>\n",
       "<table border=\"1\" class=\"dataframe\">\n",
       "  <thead>\n",
       "    <tr style=\"text-align: right;\">\n",
       "      <th></th>\n",
       "      <th>cost_kzt</th>\n",
       "      <th>rooms</th>\n",
       "      <th>total_area</th>\n",
       "      <th>district</th>\n",
       "      <th>intersection_of_streets</th>\n",
       "      <th>app_floor</th>\n",
       "      <th>number_of_floors</th>\n",
       "    </tr>\n",
       "  </thead>\n",
       "  <tbody>\n",
       "    <tr>\n",
       "      <th>42</th>\n",
       "      <td>1000000</td>\n",
       "      <td>4</td>\n",
       "      <td>145</td>\n",
       "      <td>Бостандыкский р-н</td>\n",
       "      <td>Сейфуллина — Тимирязева</td>\n",
       "      <td>9.0</td>\n",
       "      <td>21.0</td>\n",
       "    </tr>\n",
       "  </tbody>\n",
       "</table>\n",
       "</div>"
      ],
      "text/plain": [
       "    cost_kzt  rooms  total_area           district   intersection_of_streets  \\\n",
       "42   1000000      4         145  Бостандыкский р-н   Сейфуллина — Тимирязева   \n",
       "\n",
       "    app_floor  number_of_floors  \n",
       "42        9.0              21.0  "
      ]
     },
     "execution_count": 7,
     "metadata": {},
     "output_type": "execute_result"
    }
   ],
   "source": [
    "df[df['cost_kzt']==df.cost_kzt.max()]"
   ]
  },
  {
   "cell_type": "markdown",
   "metadata": {},
   "source": [
    "<h3> Было интересно зависит ли цена от расположения квартиры по вертикали</h3>\n",
    "Цены не сильно отличаются по этажам квартиры, но есть некие выделеняющиеся элементы. Итогом можно сказать что этажность не влияет на стоимость аренды, но скорее всего при большим количестве данных могут быть другие результаты "
   ]
  },
  {
   "cell_type": "code",
   "execution_count": 8,
   "metadata": {
    "scrolled": true
   },
   "outputs": [
    {
     "data": {
      "image/png": "[encoded data removed]",
      "text/plain": [
       "<Figure size 360x360 with 1 Axes>"
      ]
     },
     "metadata": {
      "needs_background": "light"
     },
     "output_type": "display_data"
    }
   ],
   "source": [
    "size = (5,5)\n",
    "fig, ax = plt.subplots(figsize=size)\n",
    "ax=sns.scatterplot(x='app_floor', y='cost_kzt',data=df, hue='district')"
   ]
  },
  {
   "cell_type": "markdown",
   "metadata": {},
   "source": [
    "<h3>Зависимость стоимости от района</h3>\n",
    "По графику ниже можно заметить, что в среднем в Медеуском районе квартиры дороже. А в Бостандыкском просто очень много трехкомнатных квартир сдаются, это показано на графиках ниже, из-за этого он стоит на втором месте по дороговизне аренды в данном графике."
   ]
  },
  {
   "cell_type": "code",
   "execution_count": 9,
   "metadata": {},
   "outputs": [
    {
     "data": {
      "text/plain": [
       "(array([0, 1, 2, 3, 4, 5]), <a list of 6 Text xticklabel objects>)"
      ]
     },
     "execution_count": 9,
     "metadata": {},
     "output_type": "execute_result"
    },
    {
     "data": {
      "image/png": "[encoded data removed]",
      "text/plain": [
       "<Figure size 720x720 with 1 Axes>"
      ]
     },
     "metadata": {
      "needs_background": "light"
     },
     "output_type": "display_data"
    }
   ],
   "source": [
    "f, ax = plt.subplots(figsize=(10,10))\n",
    "fig = sns.boxplot(x='district', y=\"cost_kzt\", data=df,showmeans=True)\n",
    "plt.xticks(rotation=90)\n"
   ]
  },
  {
   "cell_type": "markdown",
   "metadata": {},
   "source": [
    "<h3>Количество сдающихся квартир по каждому району</h3>\n",
    "В Алматинском районе очень много однокомнатных, а в Бостандыкском районе очень много трехкомнатных, как говорилось раньше. \n",
    "<br>Что интересно, в Медеуском районе одинаковое высокое количество сдающихся квартир по комнатности. \n",
    "<br>В Ауезовском районе практически нет свободных квартир, по моему опыту, обычно летом все квартиры занимают в этом районе.\n",
    "<br>P.S наверное при переезде буду искать квартиру в Алматинском или Медеуском районе."
   ]
  },
  {
   "cell_type": "code",
   "execution_count": 11,
   "metadata": {},
   "outputs": [
    {
     "data": {
      "image/png": "[encoded data removed]",
      "text/plain": [
       "<Figure size 432x288 with 1 Axes>"
      ]
     },
     "metadata": {},
     "output_type": "display_data"
    }
   ],
   "source": [
    "sns.set()\n",
    "\n",
    "table = pd.pivot_table(df, values='cost_kzt', fill_value=0, index=['district'], columns='rooms',\n",
    "                     aggfunc='count').plot(kind= 'bar')"
   ]
  },
  {
   "cell_type": "markdown",
   "metadata": {},
   "source": [
    "<h3>Сводная таблица данных разделенная по районам и количествам комнат</h3>\n",
    "<br>Темнозеленые - самые дорогие цены\n",
    "<br>Светлозеленые - самые низкие цены"
   ]
  },
  {
   "cell_type": "code",
   "execution_count": 10,
   "metadata": {},
   "outputs": [
    {
     "data": {
      "text/html": [
       "<style  type=\"text/css\" >\n",
       "    #T_73342ada_f693_11ea_834a_acde48001122row0_col0 {\n",
       "            background-color:  #c3ecc3;\n",
       "            color:  #000000;\n",
       "        }    #T_73342ada_f693_11ea_834a_acde48001122row0_col1 {\n",
       "            background-color:  #dcfadc;\n",
       "            color:  #000000;\n",
       "        }    #T_73342ada_f693_11ea_834a_acde48001122row0_col2 {\n",
       "            background-color:  #d9f8d9;\n",
       "            color:  #000000;\n",
       "        }    #T_73342ada_f693_11ea_834a_acde48001122row1_col0 {\n",
       "            background-color:  #d3f5d3;\n",
       "            color:  #000000;\n",
       "        }    #T_73342ada_f693_11ea_834a_acde48001122row1_col1 {\n",
       "            background-color:  #d4f6d4;\n",
       "            color:  #000000;\n",
       "        }    #T_73342ada_f693_11ea_834a_acde48001122row1_col2 {\n",
       "            background-color:  #e3fee3;\n",
       "            color:  #000000;\n",
       "        }    #T_73342ada_f693_11ea_834a_acde48001122row2_col0 {\n",
       "            background-color:  #d6f7d6;\n",
       "            color:  #000000;\n",
       "        }    #T_73342ada_f693_11ea_834a_acde48001122row2_col1 {\n",
       "            background-color:  #e4fee4;\n",
       "            color:  #000000;\n",
       "        }    #T_73342ada_f693_11ea_834a_acde48001122row2_col2 {\n",
       "            background-color:  #e5ffe5;\n",
       "            color:  #000000;\n",
       "        }    #T_73342ada_f693_11ea_834a_acde48001122row3_col0 {\n",
       "            background-color:  #b8e6b8;\n",
       "            color:  #000000;\n",
       "        }    #T_73342ada_f693_11ea_834a_acde48001122row3_col1 {\n",
       "            background-color:  #d7f7d7;\n",
       "            color:  #000000;\n",
       "        }    #T_73342ada_f693_11ea_834a_acde48001122row3_col2 {\n",
       "            background-color:  #d3f5d3;\n",
       "            color:  #000000;\n",
       "        }    #T_73342ada_f693_11ea_834a_acde48001122row4_col0 {\n",
       "            background-color:  #d9f8d9;\n",
       "            color:  #000000;\n",
       "        }    #T_73342ada_f693_11ea_834a_acde48001122row4_col1 {\n",
       "            background-color:  #e5ffe5;\n",
       "            color:  #000000;\n",
       "        }    #T_73342ada_f693_11ea_834a_acde48001122row4_col2 {\n",
       "            background-color:  #e5ffe5;\n",
       "            color:  #000000;\n",
       "        }    #T_73342ada_f693_11ea_834a_acde48001122row5_col0 {\n",
       "            background-color:  #d9f8d9;\n",
       "            color:  #000000;\n",
       "        }    #T_73342ada_f693_11ea_834a_acde48001122row5_col1 {\n",
       "            background-color:  #d4f6d4;\n",
       "            color:  #000000;\n",
       "        }    #T_73342ada_f693_11ea_834a_acde48001122row5_col2 {\n",
       "            background-color:  #dbf9db;\n",
       "            color:  #000000;\n",
       "        }    #T_73342ada_f693_11ea_834a_acde48001122row6_col0 {\n",
       "            background-color:  #a9dea9;\n",
       "            color:  #000000;\n",
       "        }    #T_73342ada_f693_11ea_834a_acde48001122row6_col1 {\n",
       "            background-color:  #cff3cf;\n",
       "            color:  #000000;\n",
       "        }    #T_73342ada_f693_11ea_834a_acde48001122row6_col2 {\n",
       "            background-color:  #c9efc9;\n",
       "            color:  #000000;\n",
       "        }    #T_73342ada_f693_11ea_834a_acde48001122row7_col0 {\n",
       "            background-color:  #e5ffe5;\n",
       "            color:  #000000;\n",
       "        }    #T_73342ada_f693_11ea_834a_acde48001122row7_col1 {\n",
       "            background-color:  #d7f7d7;\n",
       "            color:  #000000;\n",
       "        }    #T_73342ada_f693_11ea_834a_acde48001122row7_col2 {\n",
       "            background-color:  #dffcdf;\n",
       "            color:  #000000;\n",
       "        }    #T_73342ada_f693_11ea_834a_acde48001122row8_col0 {\n",
       "            background-color:  #cef2ce;\n",
       "            color:  #000000;\n",
       "        }    #T_73342ada_f693_11ea_834a_acde48001122row8_col1 {\n",
       "            background-color:  #97d497;\n",
       "            color:  #000000;\n",
       "        }    #T_73342ada_f693_11ea_834a_acde48001122row8_col2 {\n",
       "            background-color:  #c7eec7;\n",
       "            color:  #000000;\n",
       "        }    #T_73342ada_f693_11ea_834a_acde48001122row9_col0 {\n",
       "            background-color:  #b1e2b1;\n",
       "            color:  #000000;\n",
       "        }    #T_73342ada_f693_11ea_834a_acde48001122row9_col1 {\n",
       "            background-color:  #a6dca6;\n",
       "            color:  #000000;\n",
       "        }    #T_73342ada_f693_11ea_834a_acde48001122row9_col2 {\n",
       "            background-color:  #b1e2b1;\n",
       "            color:  #000000;\n",
       "        }    #T_73342ada_f693_11ea_834a_acde48001122row10_col0 {\n",
       "            background-color:  #008000;\n",
       "            color:  #f1f1f1;\n",
       "        }    #T_73342ada_f693_11ea_834a_acde48001122row10_col1 {\n",
       "            background-color:  #008000;\n",
       "            color:  #f1f1f1;\n",
       "        }    #T_73342ada_f693_11ea_834a_acde48001122row10_col2 {\n",
       "            background-color:  #0f880f;\n",
       "            color:  #f1f1f1;\n",
       "        }    #T_73342ada_f693_11ea_834a_acde48001122row11_col0 {\n",
       "            background-color:  #d3f5d3;\n",
       "            color:  #000000;\n",
       "        }    #T_73342ada_f693_11ea_834a_acde48001122row11_col1 {\n",
       "            background-color:  #e4fee4;\n",
       "            color:  #000000;\n",
       "        }    #T_73342ada_f693_11ea_834a_acde48001122row11_col2 {\n",
       "            background-color:  #e3fee3;\n",
       "            color:  #000000;\n",
       "        }    #T_73342ada_f693_11ea_834a_acde48001122row12_col0 {\n",
       "            background-color:  #d3f5d3;\n",
       "            color:  #000000;\n",
       "        }    #T_73342ada_f693_11ea_834a_acde48001122row12_col1 {\n",
       "            background-color:  #e4fee4;\n",
       "            color:  #000000;\n",
       "        }    #T_73342ada_f693_11ea_834a_acde48001122row12_col2 {\n",
       "            background-color:  #e3fee3;\n",
       "            color:  #000000;\n",
       "        }    #T_73342ada_f693_11ea_834a_acde48001122row13_col0 {\n",
       "            background-color:  #bee9be;\n",
       "            color:  #000000;\n",
       "        }    #T_73342ada_f693_11ea_834a_acde48001122row13_col1 {\n",
       "            background-color:  #b0e2b0;\n",
       "            color:  #000000;\n",
       "        }    #T_73342ada_f693_11ea_834a_acde48001122row13_col2 {\n",
       "            background-color:  #c9efc9;\n",
       "            color:  #000000;\n",
       "        }    #T_73342ada_f693_11ea_834a_acde48001122row14_col0 {\n",
       "            background-color:  #84c984;\n",
       "            color:  #000000;\n",
       "        }    #T_73342ada_f693_11ea_834a_acde48001122row14_col1 {\n",
       "            background-color:  #bde9bd;\n",
       "            color:  #000000;\n",
       "        }    #T_73342ada_f693_11ea_834a_acde48001122row14_col2 {\n",
       "            background-color:  #b2e3b2;\n",
       "            color:  #000000;\n",
       "        }    #T_73342ada_f693_11ea_834a_acde48001122row15_col0 {\n",
       "            background-color:  #74c074;\n",
       "            color:  #000000;\n",
       "        }    #T_73342ada_f693_11ea_834a_acde48001122row15_col1 {\n",
       "            background-color:  #329c32;\n",
       "            color:  #000000;\n",
       "        }    #T_73342ada_f693_11ea_834a_acde48001122row15_col2 {\n",
       "            background-color:  #008000;\n",
       "            color:  #f1f1f1;\n",
       "        }</style><table id=\"T_73342ada_f693_11ea_834a_acde48001122\" ><thead>    <tr>        <th class=\"blank\" ></th>        <th class=\"blank level0\" ></th>        <th class=\"col_heading level0 col0\" >amin</th>        <th class=\"col_heading level0 col1\" >amax</th>        <th class=\"col_heading level0 col2\" >mean</th>    </tr>    <tr>        <th class=\"blank\" ></th>        <th class=\"blank level1\" ></th>        <th class=\"col_heading level1 col0\" >cost_kzt</th>        <th class=\"col_heading level1 col1\" >cost_kzt</th>        <th class=\"col_heading level1 col2\" >cost_kzt</th>    </tr>    <tr>        <th class=\"index_name level0\" >district</th>        <th class=\"index_name level1\" >rooms</th>        <th class=\"blank\" ></th>        <th class=\"blank\" ></th>        <th class=\"blank\" ></th>    </tr></thead><tbody>\n",
       "                <tr>\n",
       "                        <th id=\"T_73342ada_f693_11ea_834a_acde48001122level0_row0\" class=\"row_heading level0 row0\" >Алатауский р-н</th>\n",
       "                        <th id=\"T_73342ada_f693_11ea_834a_acde48001122level1_row0\" class=\"row_heading level1 row0\" >3</th>\n",
       "                        <td id=\"T_73342ada_f693_11ea_834a_acde48001122row0_col0\" class=\"data row0 col0\" >130000</td>\n",
       "                        <td id=\"T_73342ada_f693_11ea_834a_acde48001122row0_col1\" class=\"data row0 col1\" >130000</td>\n",
       "                        <td id=\"T_73342ada_f693_11ea_834a_acde48001122row0_col2\" class=\"data row0 col2\" >130000.000000</td>\n",
       "            </tr>\n",
       "            <tr>\n",
       "                        <th id=\"T_73342ada_f693_11ea_834a_acde48001122level0_row1\" class=\"row_heading level0 row1\" rowspan=3>Алмалинский р-н</th>\n",
       "                        <th id=\"T_73342ada_f693_11ea_834a_acde48001122level1_row1\" class=\"row_heading level1 row1\" >1</th>\n",
       "                        <td id=\"T_73342ada_f693_11ea_834a_acde48001122row1_col0\" class=\"data row1 col0\" >100000</td>\n",
       "                        <td id=\"T_73342ada_f693_11ea_834a_acde48001122row1_col1\" class=\"data row1 col1\" >160000</td>\n",
       "                        <td id=\"T_73342ada_f693_11ea_834a_acde48001122row1_col2\" class=\"data row1 col2\" >100250.000000</td>\n",
       "            </tr>\n",
       "            <tr>\n",
       "                                <th id=\"T_73342ada_f693_11ea_834a_acde48001122level1_row2\" class=\"row_heading level1 row2\" >2</th>\n",
       "                        <td id=\"T_73342ada_f693_11ea_834a_acde48001122row2_col0\" class=\"data row2 col0\" >95000</td>\n",
       "                        <td id=\"T_73342ada_f693_11ea_834a_acde48001122row2_col1\" class=\"data row2 col1\" >100000</td>\n",
       "                        <td id=\"T_73342ada_f693_11ea_834a_acde48001122row2_col2\" class=\"data row2 col2\" >95053.475936</td>\n",
       "            </tr>\n",
       "            <tr>\n",
       "                                <th id=\"T_73342ada_f693_11ea_834a_acde48001122level1_row3\" class=\"row_heading level1 row3\" >3</th>\n",
       "                        <td id=\"T_73342ada_f693_11ea_834a_acde48001122row3_col0\" class=\"data row3 col0\" >150000</td>\n",
       "                        <td id=\"T_73342ada_f693_11ea_834a_acde48001122row3_col1\" class=\"data row3 col1\" >150000</td>\n",
       "                        <td id=\"T_73342ada_f693_11ea_834a_acde48001122row3_col2\" class=\"data row3 col2\" >150000.000000</td>\n",
       "            </tr>\n",
       "            <tr>\n",
       "                        <th id=\"T_73342ada_f693_11ea_834a_acde48001122level0_row4\" class=\"row_heading level0 row4\" rowspan=3>Ауэзовский р-н</th>\n",
       "                        <th id=\"T_73342ada_f693_11ea_834a_acde48001122level1_row4\" class=\"row_heading level1 row4\" >1</th>\n",
       "                        <td id=\"T_73342ada_f693_11ea_834a_acde48001122row4_col0\" class=\"data row4 col0\" >90000</td>\n",
       "                        <td id=\"T_73342ada_f693_11ea_834a_acde48001122row4_col1\" class=\"data row4 col1\" >90000</td>\n",
       "                        <td id=\"T_73342ada_f693_11ea_834a_acde48001122row4_col2\" class=\"data row4 col2\" >90000.000000</td>\n",
       "            </tr>\n",
       "            <tr>\n",
       "                                <th id=\"T_73342ada_f693_11ea_834a_acde48001122level1_row5\" class=\"row_heading level1 row5\" >2</th>\n",
       "                        <td id=\"T_73342ada_f693_11ea_834a_acde48001122row5_col0\" class=\"data row5 col0\" >90000</td>\n",
       "                        <td id=\"T_73342ada_f693_11ea_834a_acde48001122row5_col1\" class=\"data row5 col1\" >160000</td>\n",
       "                        <td id=\"T_73342ada_f693_11ea_834a_acde48001122row5_col2\" class=\"data row5 col2\" >125000.000000</td>\n",
       "            </tr>\n",
       "            <tr>\n",
       "                                <th id=\"T_73342ada_f693_11ea_834a_acde48001122level1_row6\" class=\"row_heading level1 row6\" >3</th>\n",
       "                        <td id=\"T_73342ada_f693_11ea_834a_acde48001122row6_col0\" class=\"data row6 col0\" >180000</td>\n",
       "                        <td id=\"T_73342ada_f693_11ea_834a_acde48001122row6_col1\" class=\"data row6 col1\" >180000</td>\n",
       "                        <td id=\"T_73342ada_f693_11ea_834a_acde48001122row6_col2\" class=\"data row6 col2\" >180000.000000</td>\n",
       "            </tr>\n",
       "            <tr>\n",
       "                        <th id=\"T_73342ada_f693_11ea_834a_acde48001122level0_row7\" class=\"row_heading level0 row7\" rowspan=4>Бостандыкский р-н</th>\n",
       "                        <th id=\"T_73342ada_f693_11ea_834a_acde48001122level1_row7\" class=\"row_heading level1 row7\" >1</th>\n",
       "                        <td id=\"T_73342ada_f693_11ea_834a_acde48001122row7_col0\" class=\"data row7 col0\" >65000</td>\n",
       "                        <td id=\"T_73342ada_f693_11ea_834a_acde48001122row7_col1\" class=\"data row7 col1\" >150000</td>\n",
       "                        <td id=\"T_73342ada_f693_11ea_834a_acde48001122row7_col2\" class=\"data row7 col2\" >110833.333333</td>\n",
       "            </tr>\n",
       "            <tr>\n",
       "                                <th id=\"T_73342ada_f693_11ea_834a_acde48001122level1_row8\" class=\"row_heading level1 row8\" >2</th>\n",
       "                        <td id=\"T_73342ada_f693_11ea_834a_acde48001122row8_col0\" class=\"data row8 col0\" >110000</td>\n",
       "                        <td id=\"T_73342ada_f693_11ea_834a_acde48001122row8_col1\" class=\"data row8 col1\" >400000</td>\n",
       "                        <td id=\"T_73342ada_f693_11ea_834a_acde48001122row8_col2\" class=\"data row8 col2\" >186100.000000</td>\n",
       "            </tr>\n",
       "            <tr>\n",
       "                                <th id=\"T_73342ada_f693_11ea_834a_acde48001122level1_row9\" class=\"row_heading level1 row9\" >3</th>\n",
       "                        <td id=\"T_73342ada_f693_11ea_834a_acde48001122row9_col0\" class=\"data row9 col0\" >165000</td>\n",
       "                        <td id=\"T_73342ada_f693_11ea_834a_acde48001122row9_col1\" class=\"data row9 col1\" >340000</td>\n",
       "                        <td id=\"T_73342ada_f693_11ea_834a_acde48001122row9_col2\" class=\"data row9 col2\" >252756.756757</td>\n",
       "            </tr>\n",
       "            <tr>\n",
       "                                <th id=\"T_73342ada_f693_11ea_834a_acde48001122level1_row10\" class=\"row_heading level1 row10\" >4</th>\n",
       "                        <td id=\"T_73342ada_f693_11ea_834a_acde48001122row10_col0\" class=\"data row10 col0\" >500000</td>\n",
       "                        <td id=\"T_73342ada_f693_11ea_834a_acde48001122row10_col1\" class=\"data row10 col1\" >1000000</td>\n",
       "                        <td id=\"T_73342ada_f693_11ea_834a_acde48001122row10_col2\" class=\"data row10 col2\" >750000.000000</td>\n",
       "            </tr>\n",
       "            <tr>\n",
       "                        <th id=\"T_73342ada_f693_11ea_834a_acde48001122level0_row11\" class=\"row_heading level0 row11\" >Жетысуский р-н</th>\n",
       "                        <th id=\"T_73342ada_f693_11ea_834a_acde48001122level1_row11\" class=\"row_heading level1 row11\" >2</th>\n",
       "                        <td id=\"T_73342ada_f693_11ea_834a_acde48001122row11_col0\" class=\"data row11 col0\" >100000</td>\n",
       "                        <td id=\"T_73342ada_f693_11ea_834a_acde48001122row11_col1\" class=\"data row11 col1\" >100000</td>\n",
       "                        <td id=\"T_73342ada_f693_11ea_834a_acde48001122row11_col2\" class=\"data row11 col2\" >100000.000000</td>\n",
       "            </tr>\n",
       "            <tr>\n",
       "                        <th id=\"T_73342ada_f693_11ea_834a_acde48001122level0_row12\" class=\"row_heading level0 row12\" rowspan=4>Медеуский р-н</th>\n",
       "                        <th id=\"T_73342ada_f693_11ea_834a_acde48001122level1_row12\" class=\"row_heading level1 row12\" >1</th>\n",
       "                        <td id=\"T_73342ada_f693_11ea_834a_acde48001122row12_col0\" class=\"data row12 col0\" >100000</td>\n",
       "                        <td id=\"T_73342ada_f693_11ea_834a_acde48001122row12_col1\" class=\"data row12 col1\" >100000</td>\n",
       "                        <td id=\"T_73342ada_f693_11ea_834a_acde48001122row12_col2\" class=\"data row12 col2\" >100000.000000</td>\n",
       "            </tr>\n",
       "            <tr>\n",
       "                                <th id=\"T_73342ada_f693_11ea_834a_acde48001122level1_row13\" class=\"row_heading level1 row13\" >2</th>\n",
       "                        <td id=\"T_73342ada_f693_11ea_834a_acde48001122row13_col0\" class=\"data row13 col0\" >140000</td>\n",
       "                        <td id=\"T_73342ada_f693_11ea_834a_acde48001122row13_col1\" class=\"data row13 col1\" >300000</td>\n",
       "                        <td id=\"T_73342ada_f693_11ea_834a_acde48001122row13_col2\" class=\"data row13 col2\" >180641.711230</td>\n",
       "            </tr>\n",
       "            <tr>\n",
       "                                <th id=\"T_73342ada_f693_11ea_834a_acde48001122level1_row14\" class=\"row_heading level1 row14\" >3</th>\n",
       "                        <td id=\"T_73342ada_f693_11ea_834a_acde48001122row14_col0\" class=\"data row14 col0\" >250000</td>\n",
       "                        <td id=\"T_73342ada_f693_11ea_834a_acde48001122row14_col1\" class=\"data row14 col1\" >250000</td>\n",
       "                        <td id=\"T_73342ada_f693_11ea_834a_acde48001122row14_col2\" class=\"data row14 col2\" >250000.000000</td>\n",
       "            </tr>\n",
       "            <tr>\n",
       "                                <th id=\"T_73342ada_f693_11ea_834a_acde48001122level1_row15\" class=\"row_heading level1 row15\" >4</th>\n",
       "                        <td id=\"T_73342ada_f693_11ea_834a_acde48001122row15_col0\" class=\"data row15 col0\" >280000</td>\n",
       "                        <td id=\"T_73342ada_f693_11ea_834a_acde48001122row15_col1\" class=\"data row15 col1\" >800000</td>\n",
       "                        <td id=\"T_73342ada_f693_11ea_834a_acde48001122row15_col2\" class=\"data row15 col2\" >797189.189189</td>\n",
       "            </tr>\n",
       "    </tbody></table>"
      ],
      "text/plain": [
       "<pandas.io.formats.style.Styler at 0x102a12810>"
      ]
     },
     "execution_count": 10,
     "metadata": {},
     "output_type": "execute_result"
    }
   ],
   "source": [
    "table = pd.pivot_table(df, values='cost_kzt', fill_value=0, index=['district', 'rooms'],\n",
    "                     aggfunc=[np.min, np.max, np.mean])\n",
    "cm = sns.light_palette(\"green\", as_cmap=True)\n",
    "table.style.background_gradient(cmap=cm)"
   ]
  },
  {
   "cell_type": "markdown",
   "metadata": {},
   "source": [
    "<h3>Средная цена квартир по комнатам</h3>\n",
    "<li>Нижняя линия - минимальная цена</li>\n",
    "<li>Линия посередине - медиана цен</li>\n",
    "<li>Верхная линия - максимальная цена</li>\n",
    "<li>Зеленая точка - средняя цен</li>"
   ]
  },
  {
   "cell_type": "markdown",
   "metadata": {},
   "source": [
    "На данном графике можно заметить общие значения цен для трех и двух комнатных квартир. "
   ]
  },
  {
   "cell_type": "code",
   "execution_count": 14,
   "metadata": {},
   "outputs": [
    {
     "data": {
      "image/png": "[encoded data removed]",
      "text/plain": [
       "<Figure size 720x720 with 1 Axes>"
      ]
     },
     "metadata": {},
     "output_type": "display_data"
    }
   ],
   "source": [
    "f, ax = plt.subplots(figsize=(10,10))\n",
    "data = df[(df['rooms']!=4)]\n",
    "fig = sns.boxplot(x='rooms', y=\"cost_kzt\", data=data,showmeans=True)\n"
   ]
  },
  {
   "cell_type": "markdown",
   "metadata": {},
   "source": [
    "Продолжим изучение трехкомнатных квартир по цене двух\n",
    "<br>Найдем средние значения цен для разных комнат\n",
    "<br>Найдем количество квартир трехкомнатных на 5000тг выше, чем средняя цена для двухкомнатных квартир"
   ]
  },
  {
   "cell_type": "code",
   "execution_count": 27,
   "metadata": {},
   "outputs": [
    {
     "data": {
      "text/plain": [
       "185"
      ]
     },
     "execution_count": 27,
     "metadata": {},
     "output_type": "execute_result"
    }
   ],
   "source": [
    "mean_2 = df[df['rooms']==2].cost_kzt.mean()\n",
    "mean_1 = df[df['rooms']==1].cost_kzt.mean()\n",
    "mean_3 = df[df['rooms']==3].cost_kzt.mean()\n",
    "df[(df['rooms']==3)&(df['cost_kzt']<(mean_2+5000))].cost_kzt.count()\n"
   ]
  },
  {
   "cell_type": "markdown",
   "metadata": {},
   "source": [
    "Всего <b>185</b> трехкомнатных квартир чуть выше по средней цене двухкомантных. Ниже таблица с данными, где найти эти квартиры! "
   ]
  },
  {
   "cell_type": "code",
   "execution_count": 29,
   "metadata": {
    "scrolled": true
   },
   "outputs": [
    {
     "data": {
      "text/html": [
       "<div>\n",
       "<style scoped>\n",
       "    .dataframe tbody tr th:only-of-type {\n",
       "        vertical-align: middle;\n",
       "    }\n",
       "\n",
       "    .dataframe tbody tr th {\n",
       "        vertical-align: top;\n",
       "    }\n",
       "\n",
       "    .dataframe thead th {\n",
       "        text-align: right;\n",
       "    }\n",
       "</style>\n",
       "<table border=\"1\" class=\"dataframe\">\n",
       "  <thead>\n",
       "    <tr style=\"text-align: right;\">\n",
       "      <th></th>\n",
       "      <th>cost_kzt</th>\n",
       "      <th>rooms</th>\n",
       "      <th>total_area</th>\n",
       "      <th>district</th>\n",
       "      <th>intersection_of_streets</th>\n",
       "      <th>app_floor</th>\n",
       "      <th>number_of_floors</th>\n",
       "    </tr>\n",
       "  </thead>\n",
       "  <tbody>\n",
       "    <tr>\n",
       "      <th>1</th>\n",
       "      <td>130000</td>\n",
       "      <td>3</td>\n",
       "      <td>71</td>\n",
       "      <td>Алатауский р-н</td>\n",
       "      <td>3-я — Момышулы</td>\n",
       "      <td>6.0</td>\n",
       "      <td>12.0</td>\n",
       "    </tr>\n",
       "    <tr>\n",
       "      <th>11</th>\n",
       "      <td>130000</td>\n",
       "      <td>3</td>\n",
       "      <td>71</td>\n",
       "      <td>Алатауский р-н</td>\n",
       "      <td>3-я — Момышулы</td>\n",
       "      <td>6.0</td>\n",
       "      <td>12.0</td>\n",
       "    </tr>\n",
       "    <tr>\n",
       "      <th>48</th>\n",
       "      <td>130000</td>\n",
       "      <td>3</td>\n",
       "      <td>71</td>\n",
       "      <td>Алатауский р-н</td>\n",
       "      <td>3-я — Момышулы</td>\n",
       "      <td>6.0</td>\n",
       "      <td>12.0</td>\n",
       "    </tr>\n",
       "    <tr>\n",
       "      <th>59</th>\n",
       "      <td>130000</td>\n",
       "      <td>3</td>\n",
       "      <td>71</td>\n",
       "      <td>Алатауский р-н</td>\n",
       "      <td>3-я — Момышулы</td>\n",
       "      <td>6.0</td>\n",
       "      <td>12.0</td>\n",
       "    </tr>\n",
       "    <tr>\n",
       "      <th>70</th>\n",
       "      <td>130000</td>\n",
       "      <td>3</td>\n",
       "      <td>71</td>\n",
       "      <td>Алатауский р-н</td>\n",
       "      <td>3-я — Момышулы</td>\n",
       "      <td>6.0</td>\n",
       "      <td>12.0</td>\n",
       "    </tr>\n",
       "    <tr>\n",
       "      <th>...</th>\n",
       "      <td>...</td>\n",
       "      <td>...</td>\n",
       "      <td>...</td>\n",
       "      <td>...</td>\n",
       "      <td>...</td>\n",
       "      <td>...</td>\n",
       "      <td>...</td>\n",
       "    </tr>\n",
       "    <tr>\n",
       "      <th>1071</th>\n",
       "      <td>130000</td>\n",
       "      <td>3</td>\n",
       "      <td>71</td>\n",
       "      <td>Алатауский р-н</td>\n",
       "      <td>3-я — Момышулы</td>\n",
       "      <td>6.0</td>\n",
       "      <td>12.0</td>\n",
       "    </tr>\n",
       "    <tr>\n",
       "      <th>1082</th>\n",
       "      <td>130000</td>\n",
       "      <td>3</td>\n",
       "      <td>71</td>\n",
       "      <td>Алатауский р-н</td>\n",
       "      <td>3-я — Момышулы</td>\n",
       "      <td>6.0</td>\n",
       "      <td>12.0</td>\n",
       "    </tr>\n",
       "    <tr>\n",
       "      <th>1093</th>\n",
       "      <td>130000</td>\n",
       "      <td>3</td>\n",
       "      <td>71</td>\n",
       "      <td>Алатауский р-н</td>\n",
       "      <td>3-я — Момышулы</td>\n",
       "      <td>6.0</td>\n",
       "      <td>12.0</td>\n",
       "    </tr>\n",
       "    <tr>\n",
       "      <th>1104</th>\n",
       "      <td>130000</td>\n",
       "      <td>3</td>\n",
       "      <td>71</td>\n",
       "      <td>Алатауский р-н</td>\n",
       "      <td>3-я — Момышулы</td>\n",
       "      <td>6.0</td>\n",
       "      <td>12.0</td>\n",
       "    </tr>\n",
       "    <tr>\n",
       "      <th>1115</th>\n",
       "      <td>130000</td>\n",
       "      <td>3</td>\n",
       "      <td>71</td>\n",
       "      <td>Алатауский р-н</td>\n",
       "      <td>3-я — Момышулы</td>\n",
       "      <td>6.0</td>\n",
       "      <td>12.0</td>\n",
       "    </tr>\n",
       "  </tbody>\n",
       "</table>\n",
       "<p>100 rows × 7 columns</p>\n",
       "</div>"
      ],
      "text/plain": [
       "      cost_kzt  rooms  total_area        district intersection_of_streets  \\\n",
       "1       130000      3          71  Алатауский р-н          3-я — Момышулы   \n",
       "11      130000      3          71  Алатауский р-н          3-я — Момышулы   \n",
       "48      130000      3          71  Алатауский р-н          3-я — Момышулы   \n",
       "59      130000      3          71  Алатауский р-н          3-я — Момышулы   \n",
       "70      130000      3          71  Алатауский р-н          3-я — Момышулы   \n",
       "...        ...    ...         ...             ...                     ...   \n",
       "1071    130000      3          71  Алатауский р-н          3-я — Момышулы   \n",
       "1082    130000      3          71  Алатауский р-н          3-я — Момышулы   \n",
       "1093    130000      3          71  Алатауский р-н          3-я — Момышулы   \n",
       "1104    130000      3          71  Алатауский р-н          3-я — Момышулы   \n",
       "1115    130000      3          71  Алатауский р-н          3-я — Момышулы   \n",
       "\n",
       "      app_floor  number_of_floors  \n",
       "1           6.0              12.0  \n",
       "11          6.0              12.0  \n",
       "48          6.0              12.0  \n",
       "59          6.0              12.0  \n",
       "70          6.0              12.0  \n",
       "...         ...               ...  \n",
       "1071        6.0              12.0  \n",
       "1082        6.0              12.0  \n",
       "1093        6.0              12.0  \n",
       "1104        6.0              12.0  \n",
       "1115        6.0              12.0  \n",
       "\n",
       "[100 rows x 7 columns]"
      ]
     },
     "execution_count": 29,
     "metadata": {},
     "output_type": "execute_result"
    }
   ],
   "source": [
    "three = df[(df['rooms']==3)&(df['cost_kzt']<(mean_2+5000))]\n",
    "three.head(100)"
   ]
  },
  {
   "cell_type": "markdown",
   "metadata": {},
   "source": [
    "<h3>Все 185 квартир в Алатауском районе!</h3>\n",
    "<br> При переезде буду искать в этом районе квартиру!"
   ]
  },
  {
   "cell_type": "code",
   "execution_count": 30,
   "metadata": {
    "scrolled": true
   },
   "outputs": [
    {
     "data": {
      "text/plain": [
       "Алатауский р-н    185\n",
       "Name: district, dtype: int64"
      ]
     },
     "execution_count": 30,
     "metadata": {},
     "output_type": "execute_result"
    }
   ],
   "source": [
    "three.district.value_counts()"
   ]
  },
  {
   "cell_type": "markdown",
   "metadata": {},
   "source": [
    "<h2>Средние цены на:</h2>\n",
    "<li>однокомнатная квартира - <b>100389тг</b></li>\n",
    "<li>двухкомнатная квартира - <b>125903тг</b></li>\n",
    "<li>трехкомнатная квартира - <b>207088тг</b></li>"
   ]
  },
  {
   "cell_type": "code",
   "execution_count": 31,
   "metadata": {},
   "outputs": [
    {
     "data": {
      "text/plain": [
       "(100389.47368421052, 125981.44876325088, 207451.403887689)"
      ]
     },
     "execution_count": 31,
     "metadata": {},
     "output_type": "execute_result"
    }
   ],
   "source": [
    "mean_1,\\\n",
    "mean_2,\\\n",
    "mean_3"
   ]
  },
  {
   "cell_type": "markdown",
   "metadata": {},
   "source": [
    "<h1>Вывод</h1>\n",
    "<br>-Этаж не влияет на цену\n",
    "<br>-Большинство всего свободных квартир в <i>Алмалинском районе</i>\n",
    "<br>-Трехкомнатные квартиры лучше искать в <i>Алатауском или Бостандыкском районе</i>\n",
    "<br>-В <i>Алатауском районе</i> можно найти трехкомнатную по цене двухкомнатной квартиры(для больших семей полезная информация)\n",
    "<br>-И просто интересный факт: Самая не дорогая и дорогая квартиры в <i>Бостандыкском районе</i>"
   ]
  },
  {
   "cell_type": "code",
   "execution_count": null,
   "metadata": {},
   "outputs": [],
   "source": []
  }
 ],
 "metadata": {
  "kernelspec": {
   "display_name": "Python 3",
   "language": "python",
   "name": "python3"
  },
  "language_info": {
   "codemirror_mode": {
    "name": "ipython",
    "version": 3
   },
   "file_extension": ".py",
   "mimetype": "text/x-python",
   "name": "python",
   "nbconvert_exporter": "python",
   "pygments_lexer": "ipython3",
   "version": "3.7.6"
  }
 },
 "nbformat": 4,
 "nbformat_minor": 4
}
